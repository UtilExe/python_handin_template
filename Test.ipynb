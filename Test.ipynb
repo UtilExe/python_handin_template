{
 "cells": [
  {
   "cell_type": "code",
   "execution_count": 2,
   "metadata": {},
   "outputs": [
    {
     "name": "stdout",
     "output_type": "stream",
     "text": [
      "<re.Match object; span=(0, 19), match='Store Pizza stykker'>\n",
      "<re.Match object; span=(0, 18), match='Lille blå Pizzaria'>\n",
      "<re.Match object; span=(0, 21), match='Byens bedste Pizzeria'>\n",
      "<re.Match object; span=(0, 17), match='Pizzaria la costa'>\n",
      "None\n",
      "None\n"
     ]
    }
   ],
   "source": [
    "import re\n",
    "txt = \"\"\"Store Pizza stykker\n",
    "Lille blå Pizzaria\n",
    "Byens bedste Pizzeria\n",
    "Pizzaria la costa\n",
    "Testing hej\n",
    "\"\"\"\n",
    "\n",
    "pattern = re.compile(r'([\\w ]+)*(Pizza|Pizzeria|Pizzaria)([\\w ]+)*')\n",
    "\n",
    "for line in txt.split('\\n'):\n",
    "    print(pattern.match(line))"
   ]
  }
 ],
 "metadata": {
  "kernelspec": {
   "display_name": "Python 3",
   "language": "python",
   "name": "python3"
  },
  "language_info": {
   "codemirror_mode": {
    "name": "ipython",
    "version": 3
   },
   "file_extension": ".py",
   "mimetype": "text/x-python",
   "name": "python",
   "nbconvert_exporter": "python",
   "pygments_lexer": "ipython3",
   "version": "3.7.6"
  }
 },
 "nbformat": 4,
 "nbformat_minor": 4
}
