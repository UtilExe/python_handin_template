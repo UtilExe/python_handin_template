{
 "cells": [
  {
   "cell_type": "markdown",
   "metadata": {},
   "source": [
    "## Handin Exercise 6¶\n",
    "\n",
    "### Create a module containing a class: TextComparer with the following methods:\n",
    "\n",
    "1. __init__(self, url_list)\n",
    "2. download(url,filename) that stores the file on disk and raises NotFoundException when url returns 404\n",
    "3. multi_download() uses threads to download multiple urls as text and stores filenames on a property of the TextComparer class object (Hint: use the download() method and create the filenames from the url or from the response object)\n",
    "4. __iter__() returns an iterator\n",
    "5. __next__() returns the next filename (and stops when there are no more)\n",
    "6. urllist_generator() returns a generator to loop through the urls\n",
    "7. avg_vowels(text) - a rough estimate on readability returns average number of vowels in the words of the text\n",
    "8. hardest_read() reads all text from files in filenames and returns the filename of the text with the highest vowel score (use all the cpu cores on the computer for this work."
   ]
  },
  {
   "cell_type": "code",
   "execution_count": null,
   "metadata": {},
   "outputs": [],
   "source": [
    "class TextComparer():\n",
    "    def __init__(self, url_list):\n",
    "        self.url_list = url_list;\n",
    "    \n",
    "    def download(self, url, filename):\n",
    "        response = requests.get(url)\n",
    "        \n",
    "        if response.status_code !== 404:\n",
    "            with open(filename, 'wb') as fd:\n",
    "                fd.write(response.content)\n",
    "                return response;\n",
    "        else:\n",
    "            print(\"failed, handle exception...\")\n",
    "    "
   ]
  }
 ],
 "metadata": {
  "kernelspec": {
   "display_name": "Python 3",
   "language": "python",
   "name": "python3"
  },
  "language_info": {
   "codemirror_mode": {
    "name": "ipython",
    "version": 3
   },
   "file_extension": ".py",
   "mimetype": "text/x-python",
   "name": "python",
   "nbconvert_exporter": "python",
   "pygments_lexer": "ipython3",
   "version": "3.7.6"
  }
 },
 "nbformat": 4,
 "nbformat_minor": 4
}
