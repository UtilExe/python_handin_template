{
 "cells": [
  {
   "cell_type": "markdown",
   "metadata": {},
   "source": [
    "### Exercise with perceptron\n",
    "- Find the optimal weights for the two dimensional dataset to seperate mice from rats based on data about height and weight. This is a superviced dataset with labels that can be found in the data folder (in this repo)\n",
    "\n",
    "### Part one: general\n",
    "- Look at the activation_function and plot the y-values for each x from -5,5 spaced with 0.5\n",
    "- Change the perceptron method from the notebook to use the numpy.dot() method in line 12 instead of the lengthy sum() function\n",
    "\n",
    "### Part two: rodent data\n",
    "- Make a new scatter plot with datapoints of weights vs heights. Choose different colors for rats and mice\n",
    "- Manually find the optimal linear function to divide the 2 groups (y = aX+b). Plot it on the scatter plot\n",
    "- What is the slope and intercept of the linear function?\n",
    "- Now change the 'type' column to represent rats as 1 and mice as -1\n",
    "- Clean up any rows with null data\n",
    "- Use these weights herè [40,-190] to determine if the following 3 animals are mice or rats:\n",
    "-- [[231.32446731816555,26.03382997978225],\n",
    "-- [17.906954059999567,6.846576762459397],\n",
    "-- [230.276522831171,24.077799766119398]]\n",
    "- Find the (approximately) optimal weights using the perceptron learning algorithm\n",
    "- Plot the weightline\n",
    "- Plot the division line"
   ]
  }
 ],
 "metadata": {
  "kernelspec": {
   "display_name": "Python 3",
   "language": "python",
   "name": "python3"
  },
  "language_info": {
   "codemirror_mode": {
    "name": "ipython",
    "version": 3
   },
   "file_extension": ".py",
   "mimetype": "text/x-python",
   "name": "python",
   "nbconvert_exporter": "python",
   "pygments_lexer": "ipython3",
   "version": "3.7.6"
  }
 },
 "nbformat": 4,
 "nbformat_minor": 4
}
