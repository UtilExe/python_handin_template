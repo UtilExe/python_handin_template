{
 "cells": [
  {
   "cell_type": "code",
   "execution_count": 1,
   "metadata": {},
   "outputs": [
    {
     "name": "stdout",
     "output_type": "stream",
     "text": [
      "['Jernbane Pizza Durum Kebab House', 'Pizza Time', 'La Luna Pizzaria', 'Alanya Pizza ', 'Il Mondo Pizzaria', 'Eda Pizzaria og Burgerhouse', 'Mama Rosa Pizzeria', 'Pops Pizza', 'Canaria Pizzaria og Grill', 'Saras Pizzaria ', 'Madhuset Pizza ', 'Miss Pizza', 'Nybrogård Pizza ', 'La Casa Pizza', 'Zetuna Pizzaria ', 'Søndergaard Park Pizzaria', 'La Rosa Pizzaria ', 'Værebro Pizza', 'Pizzahuset', 'Simona Pizzeria ', 'Buddinge Pizza', 'Itzi Pitzi Pizza', 'Pizza 2860', 'Esperia Pizza Bar', 'Barletta Pizzeria', 'La Tinos Pizza', 'Corona Pizza ', 'Miezio Pizza', 'Pizza Perfetto']\n",
      "Price: {'https://www.just-eat.dk/restaurants-jernbanekebab/menu': '74', 'https://www.just-eat.dk/restaurants-gepettos/menu': '56', 'https://www.just-eat.dk/restaurants-dominos-lyngby-/menu': '20', 'https://www.just-eat.dk/restaurants-mevlana-2200/menu': '79', 'https://www.just-eat.dk/restaurants-pizzatime2400/menu': '45', 'https://www.just-eat.dk/restaurants-laluna/menu': '50', 'https://www.just-eat.dk/restaurants-alanya-by-night/menu': '65', 'https://www.just-eat.dk/restaurants-natteravnen/menu': '52', 'https://www.just-eat.dk/restaurants-burgerhouse2800/menu': '55', 'https://www.just-eat.dk/restaurants-eda/menu': '56', 'https://www.just-eat.dk/restaurants-mamarosa2830-/menu': '65', 'https://www.just-eat.dk/restaurants-ella-sandwich-slice-and-fries-kongens-lyngby/menu': '20', 'https://www.just-eat.dk/restaurants-canaria-pizzaria-og-kiosk-2-kongens-lyngby/menu': '66', 'https://www.just-eat.dk/restaurants-saraspizza/menu': '54', 'https://www.just-eat.dk/restaurants-madhuset-2800/menu': '55', 'https://www.just-eat.dk/restaurants-aluna2800/menu': '50', 'https://www.just-eat.dk/restaurants-misspizza/menu': '58', 'https://www.just-eat.dk/restaurants-nybrokioskpizzeria/menu': '59', 'https://www.just-eat.dk/restaurants-delicasa-indisk-kokken-and-pizzahouse-herlev/menu': '65', 'https://www.just-eat.dk/restaurants-la-casa-kobenhavn-o/menu': '59', 'https://www.just-eat.dk/restaurants-byens-pizza-charlottenlund/menu': '60', 'https://www.just-eat.dk/restaurants-zetuna/menu': '60', 'https://www.just-eat.dk/restaurants-sondergaard-park-pizzaria-/menu': '57', 'https://www.just-eat.dk/restaurants-la-rosa-pizzaria-hellerup/menu': '63', 'https://www.just-eat.dk/restaurants-vaerebro-pizza/menu': '64', 'https://www.just-eat.dk/restaurants-lagodigarda/menu': '49', 'https://www.just-eat.dk/restaurants-bellarosa2880/menu': '52', 'https://www.just-eat.dk/restaurants-pizzahusetbagsvaerd/menu': '50', 'https://www.just-eat.dk/restaurants-kebabhouse2860/menu': '55', 'https://www.just-eat.dk/restaurants-kazmi-herlev/menu': '49', 'https://www.just-eat.dk/restaurants-cafem/menu': '55', 'https://www.just-eat.dk/restaurants-taarbaekpizza/menu': '55', 'https://www.just-eat.dk/restaurants-simonepizzeria/menu': '56', 'https://www.just-eat.dk/restaurants-buddinge-pizza-soborg/menu': '56', 'https://www.just-eat.dk/restaurants-fik-ret-pizzeriaa-soborg/menu': '59', 'https://www.just-eat.dk/restaurants-kildebakken1/menu': '52', 'https://www.just-eat.dk/restaurants-barletta-pizzeria-dyssegard/menu': '55'}\n"
     ]
    }
   ],
   "source": [
    "import requests\n",
    "import re\n",
    "\n",
    "#selenium imports\n",
    "import bs4\n",
    "from time import sleep\n",
    "from selenium import webdriver\n",
    "from selenium.webdriver.common.by import By\n",
    "from selenium.webdriver.support.ui import WebDriverWait\n",
    "from selenium.webdriver.support import expected_conditions as EC\n",
    "\n",
    "# to prevent Just-Eat from blocking us... not needed with selenium though.\n",
    "user_agent = \"Mozilla/5.0 (Windows NT 10.0; WOW64) AppleWebKit/537.36 (KHTML, like Gecko) Chrome/79.0.3945.88 Safari/537.37\"\n",
    "\n",
    "# no need to set user agent, cause thats already done through webdriver.Firefox()\n",
    "browser = webdriver.Firefox()\n",
    "browser.get('https://www.just-eat.dk/area/2800-kgs--lyngby/')\n",
    "browser.implicitly_wait(3)\n",
    "\n",
    "# accept cookies\n",
    "WebDriverWait(browser,20).until(EC.element_to_be_clickable((By.XPATH, '/html/body/div[8]/div/div[2]/button[1]'))).click()\n",
    "\n",
    "page_source = browser.page_source\n",
    "\n",
    "soup = bs4.BeautifulSoup(page_source, 'html.parser')\n",
    "\n",
    "event_cells = soup.findAll('h3', attrs= {'class': 'listing-item-title'})\n",
    "pizza_checker = re.compile(r'([\\w ]+)*(Pizza|Pizzeria|Pizzaria)([\\w ]+)*')\n",
    "pizza_list = []\n",
    "for e in event_cells:\n",
    "    restaurant_with_pizza = pizza_checker.match(str(e.text))\n",
    "    if restaurant_with_pizza is not None:\n",
    "        pizza_list.append(restaurant_with_pizza.group())\n",
    "\n",
    "print(pizza_list)\n",
    "\n",
    "# new\n",
    "soup = bs4.BeautifulSoup(page_source, 'html.parser')\n",
    "restaurant_links = []\n",
    "for a in soup.select('a'):\n",
    "    if (a.get('href') and a.get('href').startswith('/restaurants')):\n",
    "        link = 'https://www.just-eat.dk' + a.get('href')\n",
    "        restaurant_links.append(link)\n",
    "#print(restaurant_links)\n",
    "\n",
    "margherita_priser = {}\n",
    "headers = {\n",
    "    'User-Agent': 'Mozilla/5.0 (Windows NT 10.0; Win64; x64) AppleWebKit/537.36 (KHTML, like Gecko) Chrome/88.0.4324.192 Safari/537.36 OPR/74.0.3911.218'\n",
    "}\n",
    "def get_margherita_price(url):\n",
    "    r = requests.get(url, headers = headers)\n",
    "    soup = bs4.BeautifulSoup(r.text, 'html.parser')\n",
    "    products = soup.findAll('div', attrs= {'class': 'menu-product'})\n",
    "    margherita_reg = re.compile(r'Margherita')\n",
    "    price_reg = re.compile(r'(\\d{2})')\n",
    "    for p in products:\n",
    "        if (margherita_reg.search(p.getText()) is not None):\n",
    "            margherita_priser[url] = price_reg.search(p.getText()).group()\n",
    "    \n",
    "for link in restaurant_links:\n",
    "    get_margherita_price(link)\n",
    "\n",
    "print(\"Price:\", margherita_priser)"
   ]
  }
 ],
 "metadata": {
  "kernelspec": {
   "display_name": "Python 3",
   "language": "python",
   "name": "python3"
  },
  "language_info": {
   "codemirror_mode": {
    "name": "ipython",
    "version": 3
   },
   "file_extension": ".py",
   "mimetype": "text/x-python",
   "name": "python",
   "nbconvert_exporter": "python",
   "pygments_lexer": "ipython3",
   "version": "3.7.6"
  }
 },
 "nbformat": 4,
 "nbformat_minor": 4
}
