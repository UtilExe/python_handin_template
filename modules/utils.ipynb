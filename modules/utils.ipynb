{
 "cells": [
  {
   "cell_type": "code",
   "execution_count": 3,
   "metadata": {},
   "outputs": [],
   "source": [
    "import os\n",
    "def get_file_names(folderpath, out='python_handin_template/file_data/output.txt'):\n",
    "    \"\"\" takes a path to a folder and writes all filenames in the folder to a specified output file\"\"\"\n",
    "    entries = os.listdir(folderpath)\n",
    "    \n",
    "    with open(out, 'w') as file_object:\n",
    "        for entry in entries:\n",
    "            file_object.write(str(entry) + '\\n')\n",
    "    \n",
    "def get_all_file_names(folderpath,out='python_handin_template/file_data/output2.txt'):\n",
    "    \"\"\"takes a path to a folder and write all filenames recursively (files of all sub folders to)\"\"\"\n",
    "\n",
    "    with open(out, 'w') as file_object:\n",
    "        for root, dirs, files in os.walk(folderpath):\n",
    "            for name in files:\n",
    "                file_object.write(str(name) + '\\n')\n",
    "\n",
    "# not sure if this is the right way. using the * abritary function parameter. not sure if there's a smarter way?\n",
    "def print_line_one(*file_names):\n",
    "    \"\"\"takes a list of filenames and print the first line of each\"\"\"\n",
    "    lines = []\n",
    "    for file in file_names:\n",
    "        with open(file) as file_object:\n",
    "            lines.append(\"File: \" + file +\": \" + file_object.readline()) #readline handles to read only first line\n",
    "    \n",
    "    for line in lines:\n",
    "        print(line.rstrip())\n",
    "\n",
    "# not sure if this is the right way. using the * abritary function parameter. not sure if there's a smarter way?\n",
    "def print_emails(*file_names):\n",
    "    \"\"\"takes a list of filenames and print each line that contains an email (just look for @)\"\"\"\n",
    "    lines = []\n",
    "    for file in file_names:\n",
    "        with open(file) as file_object:\n",
    "            line = file_object.readlines();\n",
    "            for entry in line:\n",
    "                if ('@' in entry):\n",
    "                    lines.append(\"File: \" + file +\": \" + entry)\n",
    "\n",
    "    for line in lines:\n",
    "        print(line.rstrip())\n",
    "\n",
    "def write_headlines(*md_files, out='python_handin_template/file_data/output3.txt'):\n",
    "    \"\"\"takes a list of md files and writes all headlines (lines starting with #) to a file\"\"\"\n",
    "    lines = []\n",
    "    for file in md_files:\n",
    "        with open(file) as file_object:\n",
    "            line = file_object.readlines();\n",
    "            for entry in line:\n",
    "                if ('#' in entry):\n",
    "                    lines.append(\"File: \" + file +\": \" + entry)\n",
    "        with open(out, 'w') as file_object:\n",
    "            for field in lines:\n",
    "               # print(\"test\", field)\n",
    "                file_object.write(str(field))"
   ]
  }
 ],
 "metadata": {
  "kernelspec": {
   "display_name": "Python 3",
   "language": "python",
   "name": "python3"
  },
  "language_info": {
   "codemirror_mode": {
    "name": "ipython",
    "version": 3
   },
   "file_extension": ".py",
   "mimetype": "text/x-python",
   "name": "python",
   "nbconvert_exporter": "python",
   "pygments_lexer": "ipython3",
   "version": "3.7.6"
  }
 },
 "nbformat": 4,
 "nbformat_minor": 4
}
