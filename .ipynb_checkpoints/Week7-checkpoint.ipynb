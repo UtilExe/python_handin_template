{
 "cells": [
  {
   "cell_type": "code",
   "execution_count": null,
   "metadata": {},
   "outputs": [],
   "source": [
    "import requests\n",
    "import re\n",
    "\n",
    "#selenium imports\n",
    "import bs4\n",
    "from time import sleep\n",
    "from selenium import webdriver\n",
    "from selenium.webdriver.common.by import By\n",
    "from selenium.webdriver.support.ui import WebDriverWait\n",
    "from selenium.webdriver.support import expected_conditions as EC\n",
    "\n",
    "# to prevent Just-Eat from blocking us... not needed with selenium though.\n",
    "user_agent = \"Mozilla/5.0 (Windows NT 10.0; WOW64) AppleWebKit/537.36 (KHTML, like Gecko) Chrome/79.0.3945.88 Safari/537.37\"\n",
    "\n",
    "# no need to set user agent, cause thats already done through webdriver.Firefox()\n",
    "browser = webdriver.Firefox()\n",
    "browser.get('https://www.just-eat.dk/area/2800-kgs--lyngby/')\n",
    "browser.implicitly_wait(3)\n",
    "\n",
    "# accept cookies\n",
    "WebDriverWait(browser,20).until(EC.element_to_be_clickable((By.XPATH, '/html/body/div[8]/div/div[2]/button[1]'))).click()\n",
    "\n",
    "page_source = browser.page_source\n",
    "\n",
    "soup = bs4.BeautifulSoup(page_source, 'html.parser')\n",
    "\n",
    "event_cells = soup.findAll('h3', attrs= {'class': 'listing-item-title'})\n",
    "pizza_checker = re.compile(r'([\\w ]+)*(Pizza|Pizzeria|Pizzaria)([\\w ]+)*')\n",
    "pizza_list = []\n",
    "restaurant_links = {}\n",
    "for e in event_cells:\n",
    "    restaurant_with_pizza = pizza_checker.match(str(e.text))\n",
    "    for a in soup.select('a'):\n",
    "        if a.get('href') and a.get('href').startswith('/restaurants') and a.get('href').find('Pizza') == 1 and restaurant_with_pizza is not None:\n",
    "            link = 'https://www.just-eat.dk' + a.get('href')\n",
    "            print(\"mine\", link)\n",
    "            restaurant_links[restaurant_with_pizza.group()] = link\n",
    "            \n",
    "            \n",
    "print(restaurant_links)\n",
    "\n",
    "\n",
    "\n"
   ]
  }
 ],
 "metadata": {
  "kernelspec": {
   "display_name": "Python 3",
   "language": "python",
   "name": "python3"
  },
  "language_info": {
   "codemirror_mode": {
    "name": "ipython",
    "version": 3
   },
   "file_extension": ".py",
   "mimetype": "text/x-python",
   "name": "python",
   "nbconvert_exporter": "python",
   "pygments_lexer": "ipython3",
   "version": "3.7.6"
  }
 },
 "nbformat": 4,
 "nbformat_minor": 4
}
