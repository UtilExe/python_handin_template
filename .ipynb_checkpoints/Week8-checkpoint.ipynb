{
 "cells": [
  {
   "cell_type": "markdown",
   "metadata": {},
   "source": [
    "## Week8_handin_exercises\n"
   ]
  },
  {
   "cell_type": "markdown",
   "metadata": {},
   "source": [
    "# Opgave 1:\n",
    "#### Brug Python til at lave en database ved navn \"cars\" med tabellen; \"the_cars\" og kolonerne; \"id\", \"make\", \"model\", \"year\", \"gas_pr_km\". Indsæt data i tabellen ud fra en csv-fil med følgende indhold:\n",
    "#### 1,Volvo,RX2,2011,17\n",
    "#### 2,Mazda,Ty4,2015,16\n",
    "#### 3,Toyota,Aygo,2017,20\n",
    "#### 4,BMW,KL-1,2012,14"
   ]
  },
  {
   "cell_type": "code",
   "execution_count": 9,
   "metadata": {},
   "outputs": [
    {
     "data": {
      "text/html": [
       "<div>\n",
       "<style scoped>\n",
       "    .dataframe tbody tr th:only-of-type {\n",
       "        vertical-align: middle;\n",
       "    }\n",
       "\n",
       "    .dataframe tbody tr th {\n",
       "        vertical-align: top;\n",
       "    }\n",
       "\n",
       "    .dataframe thead th {\n",
       "        text-align: right;\n",
       "    }\n",
       "</style>\n",
       "<table border=\"1\" class=\"dataframe\">\n",
       "  <thead>\n",
       "    <tr style=\"text-align: right;\">\n",
       "      <th></th>\n",
       "      <th>id</th>\n",
       "      <th>make</th>\n",
       "      <th>model</th>\n",
       "      <th>year</th>\n",
       "      <th>gas_pr_km</th>\n",
       "    </tr>\n",
       "  </thead>\n",
       "  <tbody>\n",
       "    <tr>\n",
       "      <th>0</th>\n",
       "      <td>1</td>\n",
       "      <td>Volvo</td>\n",
       "      <td>RX2</td>\n",
       "      <td>2011</td>\n",
       "      <td>17</td>\n",
       "    </tr>\n",
       "    <tr>\n",
       "      <th>1</th>\n",
       "      <td>2</td>\n",
       "      <td>Mazda</td>\n",
       "      <td>Ty4</td>\n",
       "      <td>2015</td>\n",
       "      <td>16</td>\n",
       "    </tr>\n",
       "    <tr>\n",
       "      <th>2</th>\n",
       "      <td>3</td>\n",
       "      <td>Toyota</td>\n",
       "      <td>Aygo</td>\n",
       "      <td>2017</td>\n",
       "      <td>20</td>\n",
       "    </tr>\n",
       "    <tr>\n",
       "      <th>3</th>\n",
       "      <td>4</td>\n",
       "      <td>BMW</td>\n",
       "      <td>KL-1</td>\n",
       "      <td>2012</td>\n",
       "      <td>14</td>\n",
       "    </tr>\n",
       "  </tbody>\n",
       "</table>\n",
       "</div>"
      ],
      "text/plain": [
       "  id    make model  year gas_pr_km\n",
       "0  1   Volvo   RX2  2011        17\n",
       "1  2   Mazda   Ty4  2015        16\n",
       "2  3  Toyota  Aygo  2017        20\n",
       "3  4     BMW  KL-1  2012        14"
      ]
     },
     "execution_count": 9,
     "metadata": {},
     "output_type": "execute_result"
    }
   ],
   "source": [
    "# USING SQLALCHEMY FOR ORM:\n",
    "import pandas as pd \n",
    "from sqlalchemy import create_engine #sqlalchemy helped convert strings to dates seamlessly\n",
    "\n",
    "# my note: cars DB is created manually. how could we create that automatically?\n",
    "con_str = \"mysql+mysqlconnector://root:root@db/cars\"\n",
    "engine = create_engine(con_str)\n",
    "#connection = engine.raw_connection()\n",
    "df = pd.DataFrame({'id' : [1,2,3,4],\n",
    "                  'make':['Volvo','Mazda','Toyota', 'BMW'],\n",
    "                  'model':['RX2', 'Ty4', 'Aygo', 'KL-1'],\n",
    "                  'year':['2011', '2015', '2017', '2012'],\n",
    "                  'gas_pr_km':['17', '16', '20', '14']})\n",
    "df = df.applymap(str)\n",
    "df.to_sql('the_cars',con=engine, if_exists='append', index = False)\n",
    "df"
   ]
  },
  {
   "cell_type": "markdown",
   "metadata": {},
   "source": [
    "## Opgave 2:Lav et GET-endpoint \"/cars/{id}\" som viser en bil med det givne ID.\n"
   ]
  },
  {
   "cell_type": "code",
   "execution_count": 5,
   "metadata": {},
   "outputs": [],
   "source": [
    "# Can be seen in python_handin_template/flask/flask_app_week8.py\n"
   ]
  },
  {
   "cell_type": "markdown",
   "metadata": {},
   "source": [
    "## Opgave 3:\n",
    "### Lav et POST-endpoint \"cars/add\" som tilføjer en ny bil til database ved følgende JSON-format:\n",
    "{\n",
    "  \"make\": \"MAKE_HERE\",\n",
    "  \"model\": \"MODEL_HERE\",\n",
    "  \"year\": XXXX,\n",
    "  \"gas_pr_km\": \"GAS_HERE\"\n",
    "}"
   ]
  },
  {
   "cell_type": "code",
   "execution_count": null,
   "metadata": {},
   "outputs": [],
   "source": [
    "# Can be seen in python_handin_template/flask/flask_app_week8.py\n"
   ]
  },
  {
   "cell_type": "markdown",
   "metadata": {},
   "source": [
    "## Opgave 4:\n",
    "#### Lav et bar chart der har bil mærke og model på x-aksen (f.eks. \"Volvo RX2\") og brandstof pr. km på y-aksen (f.eks. 17).\n",
    "#### Min egen Bonus: Har sorteret, så laveste brændstof / L er først"
   ]
  },
  {
   "cell_type": "code",
   "execution_count": 72,
   "metadata": {},
   "outputs": [
    {
     "data": {
      "image/png": "[encoded data removed]",
      "text/plain": [
       "<Figure size 432x288 with 1 Axes>"
      ]
     },
     "metadata": {
      "needs_background": "light"
     },
     "output_type": "display_data"
    }
   ],
   "source": [
    "import matplotlib.pyplot as plt\n",
    "import numpy as np\n",
    "\n",
    "## Below is needed to read from the SQL table, instead of using the existing, in case we added more from our endpoint..\n",
    "df = pd.read_sql_table('the_cars', create_engine(con_str))\n",
    "\n",
    "gas_in_dataframe = df.sort_values(by=['gas_pr_km'], ascending=True)\n",
    "# Now pick only gas_pr_km. This automatically converts it from a DataFrame to a Series.\n",
    "gas_in_series = gas_in_dataframe['gas_pr_km']\n",
    "model_and_make_in_series = gas_in_dataframe['make'] + \", \" + gas_in_dataframe['model']\n",
    "\n",
    "plt.bar(model_and_make_in_series, gas_in_series)\n",
    "plt.xlabel('Mærke og model')\n",
    "plt.ylabel('Brændstof')\n",
    "\n",
    "plt.show()\n",
    "\n",
    "# For debug purposes:\n",
    "# print(type(df['make']))\n",
    "# print(type(df.sort_values(by=['gas_pr_km'], ascending=False)))"
   ]
  }
 ],
 "metadata": {
  "kernelspec": {
   "display_name": "Python 3",
   "language": "python",
   "name": "python3"
  },
  "language_info": {
   "codemirror_mode": {
    "name": "ipython",
    "version": 3
   },
   "file_extension": ".py",
   "mimetype": "text/x-python",
   "name": "python",
   "nbconvert_exporter": "python",
   "pygments_lexer": "ipython3",
   "version": "3.7.6"
  }
 },
 "nbformat": 4,
 "nbformat_minor": 4
}
