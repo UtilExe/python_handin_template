{
 "cells": [
  {
   "cell_type": "markdown",
   "metadata": {},
   "source": [
    "# Week 1 handin"
   ]
  },
  {
   "cell_type": "markdown",
   "metadata": {},
   "source": [
    "## 01 Assignment\n",
    "This is the hand-in for week1. Topics: Getting started, Python language features"
   ]
  },
  {
   "cell_type": "markdown",
   "metadata": {},
   "source": [
    "## 02 Status\n",
    "I have completed all the necessary tasks. I have not done the extra (optional) task, but all other tasks are finished."
   ]
  },
  {
   "cell_type": "markdown",
   "metadata": {},
   "source": [
    "## 03 Solution part 1 - Create 5 list comprehensions to solve the following 5 problems:\n"
   ]
  },
  {
   "cell_type": "code",
   "execution_count": 1,
   "metadata": {},
   "outputs": [],
   "source": [
    "# 1.A Iterate a list of names to return a list of the names starting with H"
   ]
  },
  {
   "cell_type": "code",
   "execution_count": 2,
   "metadata": {},
   "outputs": [
    {
     "name": "stdout",
     "output_type": "stream",
     "text": [
      "['Hans', 'Helene', 'Hansen', 'Helena']\n"
     ]
    }
   ],
   "source": [
    "namesWithH = [\"Hans\", \"Mads\", \"Frederik\", \"Helene\", \"Hansen\", \"Mads\", \"Helena\", \"Casper\"]\n",
    "h_letter = \"H\"\n",
    "newList = []\n",
    "\n",
    "for name in namesWithH :\n",
    "    if (name[0] == h_letter):\n",
    "        newList.append(name)\n",
    "    \n",
    "print(newList)"
   ]
  },
  {
   "cell_type": "code",
   "execution_count": 3,
   "metadata": {},
   "outputs": [],
   "source": [
    "# 1.B In one line create a list of the numbers 1-100 to the power of 3"
   ]
  },
  {
   "cell_type": "code",
   "execution_count": 4,
   "metadata": {},
   "outputs": [
    {
     "name": "stdout",
     "output_type": "stream",
     "text": [
      "[1, 8, 27, 64, 125, 216, 343, 512, 729, 1000, 1331, 1728, 2197, 2744, 3375, 4096, 4913, 5832, 6859, 8000, 9261, 10648, 12167, 13824, 15625, 17576, 19683, 21952, 24389, 27000, 29791, 32768, 35937, 39304, 42875, 46656, 50653, 54872, 59319, 64000, 68921, 74088, 79507, 85184, 91125, 97336, 103823, 110592, 117649, 125000, 132651, 140608, 148877, 157464, 166375, 175616, 185193, 195112, 205379, 216000, 226981, 238328, 250047, 262144, 274625, 287496, 300763, 314432, 328509, 343000, 357911, 373248, 389017, 405224, 421875, 438976, 456533, 474552, 493039, 512000, 531441, 551368, 571787, 592704, 614125, 636056, 658503, 681472, 704969, 729000, 753571, 778688, 804357, 830584, 857375, 884736, 912673, 941192, 970299, 1000000]\n"
     ]
    }
   ],
   "source": [
    "listPowerOf3 = [num**3 for num in range (1, 100+1) ]\n",
    "print(listPowerOf3)"
   ]
  },
  {
   "cell_type": "code",
   "execution_count": 5,
   "metadata": {},
   "outputs": [],
   "source": [
    "# 1.C Iterate a list of names to create a list of tuples where the tuples first value is the length of the name \n",
    "# and the second is the name"
   ]
  },
  {
   "cell_type": "code",
   "execution_count": 6,
   "metadata": {
    "scrolled": true
   },
   "outputs": [
    {
     "name": "stdout",
     "output_type": "stream",
     "text": [
      "(4, 'Hans', 4, 'Mads', 8, 'Frederik', 6, 'Helene', 6, 'Hansen', 4, 'Mads', 6, 'Helena', 6, 'Casper')\n"
     ]
    }
   ],
   "source": [
    "nameList = [\"Hans\", \"Mads\", \"Frederik\", \"Helene\", \"Hansen\", \"Mads\", \"Helena\", \"Casper\"]\n",
    "length_of_name_and_name = []\n",
    "# man kunne nok have lavet en list comprehension i stedet.\n",
    "for name in nameList : \n",
    "    length_of_name_and_name.append(len(name))\n",
    "    length_of_name_and_name.append(name)\n",
    "    \n",
    "toTuple = tuple(length_of_name_and_name)\n",
    "print(toTuple)"
   ]
  },
  {
   "cell_type": "code",
   "execution_count": 7,
   "metadata": {},
   "outputs": [
    {
     "name": "stdout",
     "output_type": "stream",
     "text": [
      "Strings that are numeric: 2\n",
      "Strings that are numeric: 4\n",
      "Strings that are numeric: 3\n",
      "Strings that are numeric: 1\n",
      "Strings that are numeric: 2\n",
      "Strings that are numeric: 4\n",
      "Strings that are numeric: 1\n",
      "Strings that are numeric: 2\n",
      "Strings that are numeric: 9\n",
      "Strings that are numeric: 4\n",
      "Strings that are numeric: 1\n",
      "Strings that are numeric: 2\n",
      "Strings that are numeric: 0\n",
      "Strings that are numeric: 9\n",
      "Strings that are numeric: 0\n"
     ]
    }
   ],
   "source": [
    "# 1.D Iterate over each character in a string and get only those that are nummeric\n",
    "randomString = \"asdjkj243124129412asd090akccawd\"\n",
    "numericString = \"\";\n",
    "for name in randomString :\n",
    "    if (name.isnumeric()):\n",
    "        print(\"Strings that are numeric:\", name)"
   ]
  },
  {
   "cell_type": "code",
   "execution_count": 8,
   "metadata": {},
   "outputs": [
    {
     "name": "stdout",
     "output_type": "stream",
     "text": [
      "{(1, 3), (6, 6), (5, 6), (2, 1), (6, 2), (1, 6), (5, 1), (2, 5), (1, 2), (3, 3), (5, 5), (4, 4), (6, 3), (1, 5), (3, 6), (2, 2), (4, 1), (1, 1), (6, 4), (3, 2), (2, 6), (5, 4), (4, 5), (5, 2), (1, 4), (2, 3), (4, 2), (6, 5), (3, 5), (5, 3), (4, 6), (6, 1), (3, 1), (4, 3), (3, 4), (2, 4)}\n"
     ]
    }
   ],
   "source": [
    "# 1.E Using only a list comprehension wrapped in set() get all possible combination from throwing 2 dice \n",
    "# (hint use 2 for loops in a single list comprehension)\n",
    "dices = list(range(1,6+1))\n",
    "\n",
    "roll_combinations = set([(throw1, throw2) for throw1 in dices for throw2 in dices])\n",
    "print(roll_combinations)"
   ]
  },
  {
   "cell_type": "markdown",
   "metadata": {},
   "source": [
    "## 04 Solution part 2 - Create 2 dictionary comprehensions to solve the following:\n"
   ]
  },
  {
   "cell_type": "code",
   "execution_count": 16,
   "metadata": {},
   "outputs": [
    {
     "name": "stdout",
     "output_type": "stream",
     "text": [
      "{9: 3.0, 25: 5.0, 36: 6.0, 49: 7.0, 'Hans': 4, 'Mads': 4, 'Frederik': 8, 'Helene': 6, 'Hansen': 6, 'Helena': 6, 'Casper': 6}\n"
     ]
    }
   ],
   "source": [
    "# 2.A Iterate a list of names and create a dictionary where key is the name and value is the length of the name\n",
    "names = [\"Hans\", \"Mads\", \"Frederik\", \"Helene\", \"Hansen\", \"Mads\", \"Helena\", \"Casper\"]\n",
    "\n",
    "for name in names:\n",
    "    #working: \n",
    "    dictionary[name] = len(name)\n",
    "# not working: dict_variable = {k:v for k in name for v in range(len(name))}\n",
    "print(dictionary)"
   ]
  },
  {
   "cell_type": "code",
   "execution_count": 15,
   "metadata": {},
   "outputs": [
    {
     "name": "stdout",
     "output_type": "stream",
     "text": [
      "{9: 3.0, 25: 5.0, 36: 6.0, 49: 7.0}\n"
     ]
    }
   ],
   "source": [
    "# 2.B Iterate a list of numbers and create a dictionary with {key:value} being {number:squareroot_of_number}\n",
    "import math  \n",
    "numbers = [9, 25, 36, 49]\n",
    "\n",
    "for number in numbers:\n",
    "    dictionary[number] = math.sqrt(number)\n",
    "    \n",
    "print(dictionary)"
   ]
  },
  {
   "cell_type": "markdown",
   "metadata": {},
   "source": [
    "## Extra assignment (This one goes beyond what is covered in the course notebooks. So only do it if you want an extra challenge).\n",
    "\n"
   ]
  }
 ],
 "metadata": {
  "kernelspec": {
   "display_name": "Python 3",
   "language": "python",
   "name": "python3"
  },
  "language_info": {
   "codemirror_mode": {
    "name": "ipython",
    "version": 3
   },
   "file_extension": ".py",
   "mimetype": "text/x-python",
   "name": "python",
   "nbconvert_exporter": "python",
   "pygments_lexer": "ipython3",
   "version": "3.7.6"
  }
 },
 "nbformat": 4,
 "nbformat_minor": 4
}
